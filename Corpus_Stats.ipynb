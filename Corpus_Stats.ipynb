{
 "cells": [
  {
   "cell_type": "code",
   "execution_count": 1,
   "id": "40b1ad59",
   "metadata": {},
   "outputs": [],
   "source": [
    "import nltk\n",
    "from nltk import FreqDist\n",
    "from nltk.corpus import PlaintextCorpusReader"
   ]
  },
  {
   "cell_type": "markdown",
   "id": "80c16533",
   "metadata": {},
   "source": [
    "## Dune Analysis"
   ]
  },
  {
   "cell_type": "code",
   "execution_count": 19,
   "id": "a777f6eb",
   "metadata": {},
   "outputs": [],
   "source": [
    "corpus_dune = PlaintextCorpusReader(\"data/prepared_texts/\", \"dune.txt\")"
   ]
  },
  {
   "cell_type": "code",
   "execution_count": 20,
   "id": "2f2dacf9",
   "metadata": {},
   "outputs": [],
   "source": [
    "dune_tokens = nltk.Text(corpus_dune.words())\n",
    "dune_words = [word.lower() for word in dune_tokens]"
   ]
  },
  {
   "cell_type": "code",
   "execution_count": 21,
   "id": "ecfa1078",
   "metadata": {},
   "outputs": [],
   "source": [
    "dist = FreqDist(dune_words)\n",
    "dist_keys = list(dist.keys())"
   ]
  },
  {
   "cell_type": "code",
   "execution_count": 27,
   "id": "895a96e6",
   "metadata": {},
   "outputs": [
    {
     "name": "stdout",
     "output_type": "stream",
     "text": [
      "('the', 13544)\n",
      "('.', 12613)\n",
      "(',', 9370)\n",
      "('\"', 6790)\n",
      "('of', 4768)\n",
      "(\"'\", 4685)\n",
      "('a', 4435)\n",
      "('to', 3958)\n",
      "('and', 3477)\n",
      "('he', 3042)\n",
      "('in', 2476)\n",
      "('you', 2432)\n",
      "('his', 2418)\n",
      "('.\"', 2417)\n",
      "('it', 2360)\n",
      "('said', 2253)\n",
      "('i', 2154)\n",
      "(',\"', 2084)\n",
      "('s', 2076)\n",
      "('that', 2015)\n",
      "('paul', 1711)\n",
      "('she', 1633)\n",
      "('-', 1570)\n",
      "('was', 1360)\n",
      "('her', 1283)\n",
      "('with', 1252)\n",
      "('at', 1200)\n",
      "('this', 1166)\n",
      "('?\"', 1147)\n",
      "('on', 1100)\n",
      "('for', 1080)\n",
      "('had', 1046)\n",
      "('him', 1037)\n",
      "(':', 1015)\n",
      "('is', 994)\n",
      "('they', 988)\n",
      "('there', 935)\n",
      "('we', 923)\n",
      "('as', 911)\n",
      "('--', 905)\n",
      "('be', 897)\n",
      "('jessica', 895)\n",
      "('but', 893)\n",
      "('from', 892)\n",
      "('my', 859)\n",
      "('...', 794)\n",
      "('not', 787)\n",
      "('them', 669)\n",
      "('have', 644)\n",
      "('one', 628)\n"
     ]
    }
   ],
   "source": [
    "top_keys = dist.most_common(50)\n",
    "for pair in top_keys:\n",
    "    print(pair)"
   ]
  },
  {
   "cell_type": "code",
   "execution_count": null,
   "id": "85fb9006",
   "metadata": {},
   "outputs": [],
   "source": []
  },
  {
   "cell_type": "markdown",
   "id": "ac475301",
   "metadata": {},
   "source": [
    "## Sandworms of Dune Analysis"
   ]
  },
  {
   "cell_type": "code",
   "execution_count": 16,
   "id": "28dc81a9",
   "metadata": {},
   "outputs": [],
   "source": [
    "corpus_worm = PlaintextCorpusReader(\"data/prepared_texts/\", \"sandworms_clean.txt\")"
   ]
  },
  {
   "cell_type": "code",
   "execution_count": 17,
   "id": "78cc523d",
   "metadata": {},
   "outputs": [],
   "source": [
    "worm_tokens = nltk.Text(corpus_worm.words())\n",
    "worm_words = [word.lower() for word in worm_tokens]"
   ]
  },
  {
   "cell_type": "code",
   "execution_count": null,
   "id": "2d94ce34",
   "metadata": {},
   "outputs": [],
   "source": []
  },
  {
   "cell_type": "code",
   "execution_count": null,
   "id": "d1a86f15",
   "metadata": {},
   "outputs": [],
   "source": []
  }
 ],
 "metadata": {
  "kernelspec": {
   "display_name": "Python 3 (ipykernel)",
   "language": "python",
   "name": "python3"
  },
  "language_info": {
   "codemirror_mode": {
    "name": "ipython",
    "version": 3
   },
   "file_extension": ".py",
   "mimetype": "text/x-python",
   "name": "python",
   "nbconvert_exporter": "python",
   "pygments_lexer": "ipython3",
   "version": "3.7.11"
  }
 },
 "nbformat": 4,
 "nbformat_minor": 5
}
